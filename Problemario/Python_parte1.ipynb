{
  "cells": [
    {
      "metadata": {
        "id": "m_6ICMVPu7KV",
        "colab_type": "text"
      },
      "cell_type": "markdown",
      "source": "# Problemarío en lenguaje Python\n\n## Introducción\n\nPython es un lenguaje de programación interpretado, una de sus ventajas es el manejo de un código legible y sencillo. Esto es, la lógica de programación puede ser utilizada para aplicarse con otros lenguajes realizando cambios mínimos en los mismos.\nA finales de los años 80’s, Python fue creado por Guido van Rossum en el Centro para las Matemáticas y la Informática en los Países Bajos. Su nombre proviene de la afición del creador por los humoristas británicos Monty Python.  \n\n####    Un compilador es aquel programa que:\n\n* Traduce un programa escrito en un lenguaje de alto nivel a otro de bajo nivel, que usualmente resulta ser lenguaje máquina.\n* La  aplicación funciona  una  vez que  no  existen  errores  de  sintaxis,  los errores lógicos se verán en su ejecución.\n* Una vez compilado, se genera un archivo ejecutable (.exe), que funcionará cada vez que se requiera.\n\n\n#### Un intérprete es un programa que (Python es un lenguaje de programación interpretado):\n\n* Analiza y ejecuta simultáneamente código de un lenguaje fuente, así como revisar variables de entornos e interrumpirse en cualquier momento.\n* Corre línea por línea, por lo que encontrar errores es algo complicado, ya que se presentarán al llegar a la línea que no se ejecute correctamente.\n* Se traduce el código cada vez que se ejecuta, haciendo un poco más tardado su ejecución.\n\n# Descripción \n\nEl presente archivo en un complemento a las actividades realizadas en clase y buscan guiar al alumno en la práctica autodidáctica necesaria para asegurar su aprendizaje. A continuación encontrará un conjunto de enunciados que deben ser resueltos, programados, interpretados y probados.\nNotas:\n1.\tLos conceptos para resolver estos ejercicios se impartirán en la asignatura.\n2.\tAlgunos de los enunciados ya están resueltos con el objetivo de ser el preámbulo de un problema similar.\n \n##### Elaborado por:\n      M. en C. Jesús Hernández Cabrera \n      Ing. Aaron Velascos Agustin\n"
    },
    {
      "metadata": {
        "id": "vvjt5sMIhA1x",
        "colab_type": "text"
      },
      "cell_type": "markdown",
      "source": "####  Comenta las líneas necesarias para que el siguiente código funcione.\n"
    },
    {
      "metadata": {
        "trusted": true,
        "id": "F3U9C0U5hA1y",
        "colab_type": "code",
        "outputId": "00efed47-657a-45fb-dbd4-901f632e6f8d",
        "colab": {
          "base_uri": "https://localhost:8080/",
          "height": 130
        }
      },
      "cell_type": "code",
      "source": "#La siguiente línea imprime la suma de 2 y 3 \nprint(\"2 + 3=\",(2+3))\n\n\"\"\"\"En ocaciones, cuando el código es\ncomplejo es necesario\nescribir comentarios\nde muchas líneas\neste es el caso.\"\"\"\n\nprint(\"Las líneas anteriores forman un comentario de múltiple línea\")\n\n#print(2 + 3=\",(2+3)) Esta línea debería funcionar también ",
      "execution_count": 2,
      "outputs": [
        {
          "output_type": "stream",
          "text": "2 + 3= 5\nLas líneas anteriores forman un comentario de múltiple línea\n",
          "name": "stdout"
        }
      ]
    },
    {
      "metadata": {
        "id": "-WDCMsVEhA14",
        "colab_type": "text"
      },
      "cell_type": "markdown",
      "source": "####  identifica de qué tipo de dato es cada uno de las siguientes expresiones. \nResponde Estableciendo comentarios de una sola línea con el tipo de dato al que pertenece."
    },
    {
      "metadata": {
        "trusted": true,
        "id": "w25IkuvwhA14",
        "colab_type": "code",
        "outputId": "f0d2ca42-cc27-4d87-c961-f4fd96e88c5d",
        "colab": {
          "base_uri": "https://localhost:8080/",
          "height": 34
        }
      },
      "cell_type": "code",
      "source": "#responde aquí\n2 + 3j          #Es un número complejo\n\"Isla mujeres\"  #string   \n2.34 #float\nbool(0) #boolean\n-12 #int\nTrue #boolean\n'Hola de nuevo' #String\nFalse #boolean\nbool(1) #boolean\n\"Amigo\" #String",
      "execution_count": 3,
      "outputs": [
        {
          "output_type": "execute_result",
          "execution_count": 3,
          "data": {
            "text/plain": "'Amigo'"
          },
          "metadata": {}
        }
      ]
    },
    {
      "metadata": {
        "id": "aUO992s_hA17",
        "colab_type": "text"
      },
      "cell_type": "markdown",
      "source": "####  1) Escribe el código para comprobar tus respuestas del ejercicio anterior"
    },
    {
      "metadata": {
        "trusted": true,
        "id": "qTCErYxLhA17",
        "colab_type": "code",
        "outputId": "089c408d-8ec9-46ad-e410-c844f0e47f7e",
        "colab": {
          "base_uri": "https://localhost:8080/",
          "height": 34
        }
      },
      "cell_type": "code",
      "source": "\nprint(type(2 + 3j)) \nprint(type(\"Isla mujeres\"))\nprint(type(2.34))\nprint(type(bool(0)))\nprint(type(-12))\nprint(type('Hola de nuevo'))\nprint(type(False))\nprint(type(bool(1)))\nprint(type(\"Amigo\"))\n\n\n",
      "execution_count": 4,
      "outputs": [
        {
          "output_type": "stream",
          "text": "<class 'complex'>\n<class 'str'>\n<class 'float'>\n<class 'bool'>\n<class 'int'>\n<class 'str'>\n<class 'bool'>\n<class 'bool'>\n<class 'str'>\n",
          "name": "stdout"
        }
      ]
    },
    {
      "metadata": {
        "id": "JHOYg3G7hA1-",
        "colab_type": "text"
      },
      "cell_type": "markdown",
      "source": "#### **2)Expresiones de bases**. ¿Que valores resultan al imprimir los siguientes expresiones?. (responde sin programarlos)\n"
    },
    {
      "metadata": {
        "trusted": true,
        "id": "RXmN7tCDhA1-",
        "colab_type": "code",
        "colab": {}
      },
      "cell_type": "code",
      "source": "var1= 0b111 #7 \nvar2=0o11 #9\nvar3=0X10 #16\nvar4=0x11 #17\nvar5=0xb1010 #725008\nvar6=0xA #10\nvar7 = 0o13 #11",
      "execution_count": 5,
      "outputs": []
    },
    {
      "metadata": {
        "id": "OcySl0DRhA2B",
        "colab_type": "text"
      },
      "cell_type": "markdown",
      "source": "#### 3)Después de responder la anterior, programar código para comprobar tus respuestas.(Corregir respuesta anterior si es necesario)"
    },
    {
      "metadata": {
        "trusted": true,
        "id": "0dSgcZ8thA2B",
        "colab_type": "code",
        "colab": {}
      },
      "cell_type": "code",
      "source": "print(var1)\nprint(var2)\nprint(var3)\nprint(var4)\nprint(var5)\nprint(var6)\nprint(var7)\n\n",
      "execution_count": 6,
      "outputs": [
        {
          "output_type": "stream",
          "text": "7\n9\n16\n17\n725008\n10\n11\n",
          "name": "stdout"
        }
      ]
    },
    {
      "metadata": {
        "id": "ZybHpXcZhA2E",
        "colab_type": "text"
      },
      "cell_type": "markdown",
      "source": "#### 4)El siguiente código debería calcular el promedio de edades, sin embargo no funciona correctamente. Corrige el código para que funcione bien."
    },
    {
      "metadata": {
        "trusted": true,
        "id": "o7Vm7aXchA2E",
        "colab_type": "code",
        "outputId": "9b947a77-1754-4ca8-b50a-353d8ee353ba",
        "colab": {
          "base_uri": "https://localhost:8080/",
          "height": 34
        }
      },
      "cell_type": "code",
      "source": "edad1 = 12\nedad2 = 22\nedad3 = 16\n\npromedio = (edad1 + edad2 + edad3) / 3\nprint(\"La nota media es\", promedio)",
      "execution_count": 7,
      "outputs": [
        {
          "output_type": "stream",
          "text": "La nota media es 16.666666666666668\n",
          "name": "stdout"
        }
      ]
    },
    {
      "metadata": {
        "id": "cSnCQ9xVhA2I",
        "colab_type": "text"
      },
      "cell_type": "markdown",
      "source": "#### 5) Escribe el código python para imprimir:\n```\nMen\nsa\nje\n```\n**NOTA:** Empleando un sólo print"
    },
    {
      "metadata": {
        "trusted": true,
        "id": "WOa_jiwfhA2I",
        "colab_type": "code",
        "colab": {}
      },
      "cell_type": "code",
      "source": "print(\"\"\"Men\nsa\nje\"\"\")\n",
      "execution_count": 8,
      "outputs": [
        {
          "output_type": "stream",
          "text": "Men\nsa\nje\n",
          "name": "stdout"
        }
      ]
    },
    {
      "metadata": {
        "id": "tPtOMhhohA2L",
        "colab_type": "text"
      },
      "cell_type": "markdown",
      "source": "#### 6)Modifica el código siguiente para que los siguientes print impriman en una sola línea lo siguiente.\nresultado esperado: \n``` Imprimir en el mismo renglon ```\n\nNota: emplear los 5 print"
    },
    {
      "metadata": {
        "trusted": true,
        "id": "pY_qRlI2hA2L",
        "colab_type": "code",
        "colab": {}
      },
      "cell_type": "code",
      "source": "#modifica aquí\nprint(\"Imprimir\", end=' ')\nprint(\"en\", end=' ')\nprint(\"el\", end=' ')\nprint(\"mismo\", end=' ')\nprint(\"renglon\", end=' ')",
      "execution_count": 2,
      "outputs": [
        {
          "output_type": "stream",
          "text": "Imprimir en el mismo renglon ",
          "name": "stdout"
        }
      ]
    },
    {
      "metadata": {
        "id": "S9RzP9ZEhA2O",
        "colab_type": "text"
      },
      "cell_type": "markdown",
      "source": "#### 7) Modifica el siguiente código para obtener el siguiente resultado:\n``` Imprimirenelmismorenglon ```"
    },
    {
      "metadata": {
        "trusted": true,
        "id": "oNgb4ygbhA2O",
        "colab_type": "code",
        "colab": {}
      },
      "cell_type": "code",
      "source": "#modifica aquí\nprint(\"Imprimir\", end='')\nprint(\"en\", end='')\nprint(\"el\", end='')\nprint(\"mismo\", end='')\nprint(\"renglon\", end='')",
      "execution_count": 10,
      "outputs": [
        {
          "output_type": "stream",
          "text": "Imprimirenelmismorenglon",
          "name": "stdout"
        }
      ]
    },
    {
      "metadata": {
        "id": "kTGLsH8nhA2Q",
        "colab_type": "text"
      },
      "cell_type": "markdown",
      "source": "#### 8) Escribe el código para imprimir lo siguiente en la salida:\n``` Javier Hernandez es apodado \"Chicharito\" ```"
    },
    {
      "metadata": {
        "trusted": true,
        "id": "93urksrEhA2R",
        "colab_type": "code",
        "colab": {}
      },
      "cell_type": "code",
      "source": "print(\"Javier Hernandez es apodado \\\"Chicharito\\\"\")\n\n",
      "execution_count": 11,
      "outputs": [
        {
          "output_type": "stream",
          "text": "Javier Hernandez es apodado \"Chicharito\"\n",
          "name": "stdout"
        }
      ]
    },
    {
      "metadata": {
        "trusted": true,
        "id": "UlJJRBgxhA2X",
        "colab_type": "text"
      },
      "cell_type": "markdown",
      "source": "#### 9)Escribir el código para obtener de teclado tu edad y desplegarla en la pantalla multiplicado por 2\nEjemplo: \n``` \n¿Cuál es tu edad?: 22\nEl doble de tu edad es 44.\n```"
    },
    {
      "metadata": {
        "trusted": true,
        "id": "IR2M4NfUhA2Y",
        "colab_type": "code",
        "colab": {}
      },
      "cell_type": "code",
      "source": "edad=int(input(\"¿Cuál es tu edad?\")) \nprint(f\"El doble de tu edad es: {edad*2}\")\n",
      "execution_count": 12,
      "outputs": [
        {
          "output_type": "stream",
          "name": "stdout",
          "text": "¿Cuál es tu edad?13\nEl doble de tu edad es: 26\n"
        }
      ]
    },
    {
      "metadata": {
        "id": "SQtM-evdhA2a",
        "colab_type": "text"
      },
      "cell_type": "markdown",
      "source": "#### 10)Escribir el código para obtener de teclado tu nombre y un número entero;   desplegar en la pantalla tu nombre multiplicado por el número:\n¿Cuál es tu nombre?: Jesus\nIngresa un entero: 5\nResultado: ```JesusJesusJesusJesusJesus ```"
    },
    {
      "metadata": {
        "trusted": true,
        "id": "gu9CHxnfhA2b",
        "colab_type": "code",
        "colab": {}
      },
      "cell_type": "code",
      "source": "nombre = input(\"¿Cuál es tu nombre?\")\nnum=int(input('Ingresa un entero'))\nprint(\"Resultado:\"+ nombre*num)",
      "execution_count": 15,
      "outputs": [
        {
          "output_type": "stream",
          "name": "stdout",
          "text": "¿Cuál es tu nombre?Luis\nIngresa un entero2\nResultado:LuisLuis\n"
        }
      ]
    },
    {
      "metadata": {
        "id": "TnVxMYILhA2d",
        "colab_type": "text"
      },
      "cell_type": "markdown",
      "source": "#### 11)Escribir el código para obtener de teclado tu nombre y mostrar los primeros 3 caracteres(Slicing [::]). Nota.. verificar que la longitud sea mayor a 3.\n"
    },
    {
      "metadata": {
        "trusted": true,
        "id": "wHlbhH-fhA2e",
        "colab_type": "code",
        "colab": {}
      },
      "cell_type": "code",
      "source": "nombre = input('Nombre:')\nprint(nombre[:3:])\n",
      "execution_count": 17,
      "outputs": [
        {
          "output_type": "stream",
          "name": "stdout",
          "text": "Nombre:Alberto\nAlb\n"
        }
      ]
    },
    {
      "metadata": {
        "id": "YgP2ZS1Of0rc",
        "colab_type": "text"
      },
      "cell_type": "markdown",
      "source": "\n### Mi primer programa en python.\n Enunciado: Realizar un programa que imprima el mensaje “Hola mundo” en la consola.\n Objetivo: Que el alumno aprenda a usar el código necesario para enviar mensajes de salida por medio de la consola.\n"
    },
    {
      "metadata": {
        "id": "PuAEAkq2gQ4j",
        "colab_type": "code",
        "outputId": "e2ea256b-1a9f-4ba0-a5b0-4548b64c3066",
        "colab": {
          "base_uri": "https://localhost:8080/",
          "height": 34
        },
        "trusted": true
      },
      "cell_type": "code",
      "source": "def main():\n    \n    print(\"¡Hola, mundo! desde google\")\n\nif __name__ == \"__main__\":\n    main()\n## Las instrucciones que forman el programa, se escribirían dentro de la función main(), es decir, sangradas cuatro espacios.",
      "execution_count": 18,
      "outputs": [
        {
          "output_type": "stream",
          "text": "¡Hola, mundo! desde google\n",
          "name": "stdout"
        }
      ]
    },
    {
      "metadata": {
        "id": "zsxdbGnkgbws",
        "colab_type": "text"
      },
      "cell_type": "markdown",
      "source": "### Los programas de Python no necesitan realmente definir una función main().\nEs decir, los dos programas siguientes producirían el mismo resultado"
    },
    {
      "metadata": {
        "id": "EAbiJn4KgdAD",
        "colab_type": "code",
        "outputId": "2fb42266-3021-4eea-b14c-15815b86d247",
        "colab": {
          "base_uri": "https://localhost:8080/",
          "height": 34
        },
        "trusted": true
      },
      "cell_type": "code",
      "source": "## Programa No1, con funcion main()\ndef main():\n  print(\"¡Hola, mundo desde google!\")\n\nif __name__ == \"__main__\":\n  main()",
      "execution_count": 19,
      "outputs": [
        {
          "output_type": "stream",
          "text": "¡Hola, mundo desde google!\n",
          "name": "stdout"
        }
      ]
    },
    {
      "metadata": {
        "id": "X9qyOpagggAj",
        "colab_type": "code",
        "outputId": "4487cff6-c82e-4f8e-acb0-352f484bd2d4",
        "colab": {
          "base_uri": "https://localhost:8080/",
          "height": 34
        },
        "trusted": true
      },
      "cell_type": "code",
      "source": "## Programa No2, sin main()\n    print(\"Hola mundo, desde google, Saludos\")",
      "execution_count": 20,
      "outputs": [
        {
          "output_type": "stream",
          "text": "Hola mundo, desde google, Saludos\n",
          "name": "stdout"
        }
      ]
    },
    {
      "metadata": {
        "id": "l1mvh6sUg15f",
        "colab_type": "text"
      },
      "cell_type": "markdown",
      "source": "#### 12) Escribir el código para poder imprimir un mensaje que diga  “Hola” + “El nombre del alumno”, un ejemplo de salida sería el siguiente:\n  Hola Aaron Velasco"
    },
    {
      "metadata": {
        "id": "PslHN3GVhScU",
        "colab_type": "code",
        "colab": {},
        "trusted": true
      },
      "cell_type": "code",
      "source": "print(\"Hola Luis Alberto\")",
      "execution_count": 21,
      "outputs": [
        {
          "output_type": "stream",
          "text": "Hola Luis Alberto\n",
          "name": "stdout"
        }
      ]
    },
    {
      "metadata": {
        "id": "F8AdNWO4heb4",
        "colab_type": "text"
      },
      "cell_type": "markdown",
      "source": "#### 13) El siguiente programa contiene errores, corrígelos y haz que el programa funcione de manera correcta"
    },
    {
      "metadata": {
        "id": "wSZGG8sxhi7X",
        "colab_type": "code",
        "outputId": "76989955-9932-4b11-b61d-65952fa735df",
        "colab": {
          "base_uri": "https://localhost:8080/",
          "height": 68
        },
        "trusted": true
      },
      "cell_type": "code",
      "source": "print(\"Hola como estas\")\nprint(\"El dìa de hoy\")\nprint(\"Adios que tengas un buen dia\")\n",
      "execution_count": 22,
      "outputs": [
        {
          "output_type": "stream",
          "text": "Hola como estas\nEl dìa de hoy\nAdios que tengas un buen dia\n",
          "name": "stdout"
        }
      ]
    },
    {
      "metadata": {
        "id": "MY7sCZoOiAht",
        "colab_type": "text"
      },
      "cell_type": "markdown",
      "source": "#### 14)Realizar un programa que imprima “Hola como estas” y que cada palabra este separado por un salto de línea (revisar caracter de escape). Ejemplo:\n\nHola \n\ncomo\n\nestas\n"
    },
    {
      "metadata": {
        "id": "PdlNM_PRidfY",
        "colab_type": "code",
        "colab": {},
        "trusted": true
      },
      "cell_type": "code",
      "source": "print('Hola\\n'+ 'Como\\n'+ 'Estas\\n')",
      "execution_count": 23,
      "outputs": [
        {
          "output_type": "stream",
          "text": "Hola\nComo\nEstas\n\n",
          "name": "stdout"
        }
      ]
    },
    {
      "metadata": {
        "id": "3T-Fn5yZirfb",
        "colab_type": "text"
      },
      "cell_type": "markdown",
      "source": "#### 15)Realizar un programa que despliegue en pantalla el siguiente mensaje(comillas dobles incluidas):\n\n\tEste curso se llama “Computadoras y Programacion”\n"
    },
    {
      "metadata": {
        "id": "zy-NzY1eiwBJ",
        "colab_type": "code",
        "colab": {},
        "trusted": true
      },
      "cell_type": "code",
      "source": "print(\"Este curso se llama \\\"Computadoras y Programacion\\\"\")",
      "execution_count": 1,
      "outputs": [
        {
          "output_type": "stream",
          "text": "Este curso se llama \"Computadoras y Programacion\"\n",
          "name": "stdout"
        }
      ]
    },
    {
      "metadata": {
        "id": "ecwOVd8fzHgc",
        "colab_type": "text"
      },
      "cell_type": "markdown",
      "source": "### 16)Realizar un programa con los datos del alumno (nombre, edad, número de cuenta), documentar tu código utilizando la sintaxis especial para agregar comentarios al código fuente.\nUsar los dos tipos de comentario:\n\n1 linea y multi-linea "
    },
    {
      "metadata": {
        "id": "hcACLm7wzLkc",
        "colab_type": "code",
        "colab": {},
        "trusted": true
      },
      "cell_type": "code",
      "source": "\"\"\"Esta parte del programa imprime:\nEdad, Nombre y No de Cuenta\"\"\"\nprint(\"Nombre: Luis\") #imprime nombre\nprint(\"Edad: 20\") # imprime edad\nprint(\"No de Cuenta: 315229619\") #Imprime el codigo",
      "execution_count": 1,
      "outputs": [
        {
          "output_type": "stream",
          "text": "Nombre: Luis\nEdad: 20\nNo de Cuenta: 315229619\n",
          "name": "stdout"
        }
      ]
    },
    {
      "metadata": {
        "id": "7hL3tyO5z02W",
        "colab_type": "text"
      },
      "cell_type": "markdown",
      "source": "### 17)Realizar un programa que imprima los datos de la institución (Nombre de la Facultad, carrera y ciclo escolar) donde estudias y documentar tu código utilizando la sintaxis especial para agregar comentarios al código fuente."
    },
    {
      "metadata": {
        "id": "LtGIy7ur0F0d",
        "colab_type": "code",
        "colab": {},
        "trusted": true
      },
      "cell_type": "code",
      "source": "\"\"\"Esta parte del programa imprime:\nEdad, Nombre y No de Cuenta\"\"\"\nprint(\"Facultad de estudios superiores Aragon\") #imprime Nombre de la facultad\nprint(\"Ingenieria en Computación\") # imprime Carrera\nprint(\"2020-1\") #Imprime el Ciclo escolar",
      "execution_count": 2,
      "outputs": [
        {
          "output_type": "stream",
          "text": "Facultad de estudios superiores Aragon\nIngenieria en Computación\n2020-1\n",
          "name": "stdout"
        }
      ]
    },
    {
      "metadata": {
        "id": "9dXAZm5e-K6F",
        "colab_type": "text"
      },
      "cell_type": "markdown",
      "source": "## Comentarios en Python\nUn comentario es una parte del codigo que un lenguaje de programacion ignora al momento de ejecutarse, pero no es muy util para conocer su funcionamiento por parte del programador mas no del usuario.\n#### Despues de colocar el simbolo de gato \"#\", toda  la linea se vuelve un comentario\n#### La colocacion de tres comillas simples \" ''' \" o comillas dobles \"\" hara que todo lo que se escriva a continuacion, sea un comentario, incluyendo los saltos de linea.\n"
    },
    {
      "metadata": {
        "id": "A9HuqlEG_VRs",
        "colab_type": "code",
        "outputId": "20ae5240-d933-48c2-80a0-d8efcd1170e2",
        "colab": {
          "base_uri": "https://localhost:8080/",
          "height": 34
        },
        "trusted": false
      },
      "cell_type": "code",
      "source": "#Ejemplo de un comentario de una linea \nprint(\"Hola mundo\")\n",
      "execution_count": 0,
      "outputs": [
        {
          "output_type": "stream",
          "text": "Hola mundo\n",
          "name": "stdout"
        }
      ]
    },
    {
      "metadata": {
        "id": "HteKVvIK_dLn",
        "colab_type": "code",
        "outputId": "79121c61-e2cd-41fe-dea4-ce234fc86e9c",
        "colab": {
          "base_uri": "https://localhost:8080/",
          "height": 34
        },
        "trusted": false
      },
      "cell_type": "code",
      "source": "\"\"\" ejemplo de un \ncomentario de \nmuchas lineas \"\"\"\nprint(\"Hola otra ves como te va \")\n",
      "execution_count": 0,
      "outputs": [
        {
          "output_type": "stream",
          "text": "Hola otra ves como te va \n",
          "name": "stdout"
        }
      ]
    },
    {
      "metadata": {
        "id": "XNBlbVYL0HUD",
        "colab_type": "text"
      },
      "cell_type": "markdown",
      "source": "### Realizar un programa que calcule el área de un cuadrado.\nQue pida por medio del teclado un lado del cuadrado\n"
    },
    {
      "metadata": {
        "id": "3uSuGWUkz5DJ",
        "colab_type": "code",
        "outputId": "6aa6f5b2-ce7b-4556-b7c0-1206702d9f7a",
        "colab": {
          "base_uri": "https://localhost:8080/",
          "height": 102
        },
        "trusted": true
      },
      "cell_type": "code",
      "source": "##Declaración de variables \nprint(\"Area de un Cuadrado\\n\")\n\nprint(\"Escribe la medida de un lado: \")\n#casteo\niNumero1 = int (input())\n#Operacion algebraica  \niResultado=iNumero1**2\n#resultado\t\nprint(\"El resultado es:\", iResultado)\n\t\n",
      "execution_count": 4,
      "outputs": [
        {
          "output_type": "stream",
          "text": "Area de un Cuadrado\n\nEscribe la medida de un lado: \n12\nEl resultado es: 144\n",
          "name": "stdout"
        }
      ]
    },
    {
      "metadata": {
        "id": "2nmOJvEl2A-f",
        "colab_type": "text"
      },
      "cell_type": "markdown",
      "source": "### 18)Realizar un programa que realice una suma y una multiplicación.\n1º) Pida por teclado dos números (datos enteros).\n\n2º) Calcule la suma y multiplicación de los dos números introducidos.\n\n3º) Muestre por pantalla los resultados (datos enteros).\n"
    },
    {
      "metadata": {
        "id": "hRtqp1hr2I4K",
        "colab_type": "code",
        "colab": {},
        "trusted": true
      },
      "cell_type": "code",
      "source": "print(\"\") #Titulo del programa\ntemp = int(input(\"Dos numeros para darte la suma y el producto:\"))\niproducto = int(input(''))\nisuma= temp+iproducto\niproducto = temp*iproducto\nprint(f\"Suma: {isuma}\\nProducto: {iproducto}\") #Imprime el resultado",
      "execution_count": 6,
      "outputs": [
        {
          "output_type": "stream",
          "text": "\nDos numeros para darte la suma y el producto:12\n3\nSuma: 15\nProducto: 36\n",
          "name": "stdout"
        }
      ]
    },
    {
      "metadata": {
        "id": "4GEBiJFy2P4i",
        "colab_type": "text"
      },
      "cell_type": "markdown",
      "source": "### 18)Realizar un programa que imprima dos variables de tipo entero.\nEjemplo:\nNumero1: 10\nNumero 2: 45"
    },
    {
      "metadata": {
        "id": "dOopefZD2PHy",
        "colab_type": "code",
        "colab": {},
        "trusted": true
      },
      "cell_type": "code",
      "source": "numero1 = 10\nnumero2 = 45\nprint(f\"Numero 1: {numero1} \\nNumero 2: {numero2}\")",
      "execution_count": 7,
      "outputs": [
        {
          "output_type": "stream",
          "text": "Numero 1: 10 \nNumero 2: 45\n",
          "name": "stdout"
        }
      ]
    },
    {
      "metadata": {
        "id": "smfh7otFKD--",
        "colab_type": "text"
      },
      "cell_type": "markdown",
      "source": "###  19)Realizar un programa que imprima tu nombre y tu número de cuenta (los dos datos deben de estar asignados a un tipo de variable) y que se muestre en consola.\nEjemplo:\n\n\nNombre: Aaron Velasco\n\n\n\nNo cuenta: 413112576\n"
    },
    {
      "metadata": {
        "id": "TiAdoU6tKIZP",
        "colab_type": "code",
        "colab": {},
        "trusted": true
      },
      "cell_type": "code",
      "source": "nombre = \"Luis Jurado\"\nno_Cuenta = 315229619\nprint(f\"Nombre: {nombre}\\nNo de Cuenta {no_Cuenta}\")",
      "execution_count": 1,
      "outputs": [
        {
          "output_type": "stream",
          "text": "Nombre: Luis Jurado\nNo de Cuenta 315229619\n",
          "name": "stdout"
        }
      ]
    },
    {
      "metadata": {
        "id": "5V1ehhPFKJ8j",
        "colab_type": "text"
      },
      "cell_type": "markdown",
      "source": "### 20)Realizar un programa que sume 3 números, uno de tipo entero y 2 de tipo flotante.\nEjemplo:\n\n\n    Suma de 3 numeros.\n    Numero 1: 15\n    Numero 2: 2.6\n    Numero3: 18.56\n    Resultado de la suma: 36.16\n"
    },
    {
      "metadata": {
        "id": "omtDLo5BLoPr",
        "colab_type": "code",
        "colab": {},
        "trusted": true
      },
      "cell_type": "code",
      "source": "numero = 1\nnumero2 = 5.25\nnumero3 = 7.25\nprint(f\"La suma de {numero}, {numero2} y numero3 es igual a {numero+numero2+numero3}\")",
      "execution_count": 3,
      "outputs": [
        {
          "output_type": "stream",
          "text": "La suma de 1, 5.25 y numero3 es igual a 13.5\n",
          "name": "stdout"
        }
      ]
    },
    {
      "metadata": {
        "id": "m3wOfhvkLo1c",
        "colab_type": "text"
      },
      "cell_type": "markdown",
      "source": "### Realizar un programa que sume dos números de tipo entero."
    },
    {
      "metadata": {
        "id": "xFHoAy0LL2Lt",
        "colab_type": "code",
        "outputId": "573f7217-952c-4282-c88c-0936cd65930f",
        "colab": {
          "base_uri": "https://localhost:8080/",
          "height": 85
        },
        "trusted": true
      },
      "cell_type": "code",
      "source": "iNumero1=10\niNumero2=15\niResultado=iNumero1+iNumero2\nprint(\"           Suma de dos numeros\")\n\nprint(\"Numero1: \",iNumero1,\", iNumero 2:\",iNumero2,\"\\n\")\n\nprint(\"El resulta de la suma de dos numeros es:\",iNumero1,\"+\",iNumero2,\"=\",iResultado)\n",
      "execution_count": 4,
      "outputs": [
        {
          "output_type": "stream",
          "text": "           Suma de dos numeros\nNumero1:  10 , iNumero 2: 15 \n\nEl resulta de la suma de dos numeros es: 10 + 15 = 25\n",
          "name": "stdout"
        }
      ]
    },
    {
      "metadata": {
        "id": "MPj0J5WrSE5q",
        "colab_type": "text"
      },
      "cell_type": "markdown",
      "source": "#### 21)Realizar un programa que haga una suma, una resta, una multiplicación, una división, y saque el módulo de dos números."
    },
    {
      "metadata": {
        "id": "qogyYRAbSIEc",
        "colab_type": "code",
        "colab": {},
        "trusted": true
      },
      "cell_type": "code",
      "source": "print(f\"La suma es: {iNumero1+iNumero2}\")\nprint(f\"La resta es: {iNumero1-iNumero2}\")\nprint(f\"La multiplicación es: {iNumero1*iNumero2}\")\nprint(f\"La división es: {iNumero1/iNumero2}\")\nprint(f\"El modulo es: {iNumero1%iNumero2}\")",
      "execution_count": 5,
      "outputs": [
        {
          "output_type": "stream",
          "text": "La suma es: 25\nLa resta es: -5\nLa multiplicación es: 150\nLa división es: 0.6666666666666666\nEl modulo es: 10\n",
          "name": "stdout"
        }
      ]
    },
    {
      "metadata": {
        "id": "iPDYW2ehSkiU",
        "colab_type": "text"
      },
      "cell_type": "markdown",
      "source": "### Realizar un programa que haga una operación algebraica.\nObjetivo: que el alumno comprenda la procedencia de los operadores.\n\n\nQue el alumno comprenda la procedencia de los operadores.\n"
    },
    {
      "metadata": {
        "id": "RM0euRhpy2V9",
        "colab_type": "code",
        "outputId": "90372320-d7df-449c-81dd-9cd746d96204",
        "colab": {
          "base_uri": "https://localhost:8080/",
          "height": 85
        },
        "trusted": true
      },
      "cell_type": "code",
      "source": "print(\"Operacion Aritmetica\")\nprint(\"\\n R=(a*b+c)*(c-d)\")\n\na=10\nb=2\nc=4\n\nR=(a*b+c)*(c-b)\nprint(\"Resultado de la operacion es: \",R)\n\n",
      "execution_count": 6,
      "outputs": [
        {
          "output_type": "stream",
          "text": "Operacion Aritmetica\n\n R=(a*b+c)*(c-d)\nResultado de la operacion es:  48\n",
          "name": "stdout"
        }
      ]
    },
    {
      "metadata": {
        "id": "luabQGGfyexA",
        "colab_type": "text"
      },
      "cell_type": "markdown",
      "source": "## Operador\nUn operador es un carácter o grupo de caracteres que actúa sobre una, dos o más variables para realizar una determinada operación con un determinado resultado. Ejemplos típicos de operadores son la suma (+), la diferencia (-), el producto (*), etc. Los operadores pueden ser unarios, binarios y ternarios, según actúen sobre uno, dos o tres operandos, respectivamente. En C existen muchos operadores de diversos tipos (éste es uno de los puntos fuertes del lenguaje), que se verán a continuación.\n## Procedencia de operadores\n\n\nSe muestra la precedencia –disminuyendo de arriba a abajo– y la asociatividad de los operadores de C."
    },
    {
      "metadata": {
        "id": "IMl4P4C5y1h4",
        "colab_type": "text"
      },
      "cell_type": "markdown",
      "source": "![Procedencia de Operaradores](http://www.juntadeandalucia.es/averroes/centros-tic/14005663/helvia/aula/archivos/repositorio/0/164/html/lenguajec/archivos_unidad4/tabla1.jpg)"
    },
    {
      "metadata": {
        "id": "yv9G5WH-2uKZ",
        "colab_type": "text"
      },
      "cell_type": "markdown",
      "source": "### 22)Realizar un programa que resuelva la siguiente ecuación algebraica \n\n\na + [( 16 / (a+c) ) / (56/b)]\n\n\nValores: a=10, b=89, c=56"
    },
    {
      "metadata": {
        "id": "WQ-pgyNw3Trs",
        "colab_type": "code",
        "colab": {},
        "trusted": true
      },
      "cell_type": "code",
      "source": "a=10\nb=89\nc=56\nprint(a+((16/(a+c))/(56/b)))",
      "execution_count": 1,
      "outputs": [
        {
          "output_type": "stream",
          "text": "10.385281385281385\n",
          "name": "stdout"
        }
      ]
    },
    {
      "metadata": {
        "id": "kKhHoE5C82dJ",
        "colab_type": "text"
      },
      "cell_type": "markdown",
      "source": "## Tipo de datos en Python\nPython maneja cuatro tipos de datos muy básicos.\n\n\n    Booleanos\n    Enteros\n    Flotantes\n    Cadenas\n\n"
    },
    {
      "metadata": {
        "id": "HYgMmIn0A_QF",
        "colab_type": "text"
      },
      "cell_type": "markdown",
      "source": "### Booleano (bool)\nEl tipo de dato booleano (bool de boolean) es aquel que sólo puede tener dos valores: True (verdadero) o False (falso). \n\n"
    },
    {
      "metadata": {
        "id": "M6cYVOchCGs2",
        "colab_type": "code",
        "outputId": "13b6058b-af04-4bde-a1cb-22ca67b72948",
        "colab": {
          "base_uri": "https://localhost:8080/",
          "height": 51
        },
        "trusted": false
      },
      "cell_type": "code",
      "source": "# Ejemplo de un dato de tipo booleano\n#Verdadero\nbooleano = True\nprint(booleano)\n\n#falso\nBool = False\nprint(Bool)",
      "execution_count": 0,
      "outputs": [
        {
          "output_type": "stream",
          "text": "True\nFalse\n",
          "name": "stdout"
        }
      ]
    },
    {
      "metadata": {
        "id": "UU9XnrVsDCD6",
        "colab_type": "text"
      },
      "cell_type": "markdown",
      "source": "###  Entero (int)\nEl tipo de dato entero (int de integer) resulta ser aquel que puede tomar valores enteros desde -2147483648 hasta 2147483647. Si el valor sale de estos límites, Python lo volverá un dato largo (long), el cual dependerá de que la memoria de la computadora no se acabe."
    },
    {
      "metadata": {
        "id": "OmG077d1-D7m",
        "colab_type": "code",
        "outputId": "20c93b7e-e0e3-43ae-e173-fce4076713d6",
        "colab": {
          "base_uri": "https://localhost:8080/",
          "height": 136
        },
        "trusted": false
      },
      "cell_type": "code",
      "source": "# Ejemplo de dao de tipo entero\nentero = 123\nprint(\"Este es un número entero: \", entero)\n\n# Obtener el tipo de dato de la variable \n## \"type (nombre_variable)\"\n\n#Tipo de datos\nprint(\"\\n Tipo de dato: \",type(entero))\n\n\n## entero muy largo\nentero_2=21474836485646546513131513114646514651321315615131\nprint(\"\\n\",entero_2)\n\nprint (\"\\n Tipo de datos\", type(entero_2))\n\n",
      "execution_count": 0,
      "outputs": [
        {
          "output_type": "stream",
          "text": "Este es un número entero:  123\n\n Tipo de dato:  <class 'int'>\n\n 21474836485646546513131513114646514651321315615131\n\n Tipo de datos <class 'int'>\n",
          "name": "stdout"
        }
      ]
    },
    {
      "metadata": {
        "id": "LIiecmoTHTAg",
        "colab_type": "text"
      },
      "cell_type": "markdown",
      "source": "### Flotante (Float)\nEl tipo de dato flotante (float) es aquel que puede tomar valores reales o decimales, teniendo una precisión de 53 dígitos. Este tipo de datos es fácilmente diferenciado por tener un punto decimal."
    },
    {
      "metadata": {
        "id": "7FVlnhQgHY2O",
        "colab_type": "code",
        "outputId": "37dbc4fe-e1b0-488c-caca-862597a7de79",
        "colab": {
          "base_uri": "https://localhost:8080/",
          "height": 68
        },
        "trusted": false
      },
      "cell_type": "code",
      "source": "#Tipo de dato flotante\nflotante= 3.1416545\nprint(\"Flotante: \",flotante)\nprint (\"\\n Tipo de dato: \", type(flotante))\n\n",
      "execution_count": 0,
      "outputs": [
        {
          "output_type": "stream",
          "text": "Flotante:  3.1416545\n\n Tipo de dato:  <class 'float'>\n",
          "name": "stdout"
        }
      ]
    },
    {
      "metadata": {
        "id": "Vx_0DhJlHvU_",
        "colab_type": "text"
      },
      "cell_type": "markdown",
      "source": "### Cadena (String)\nEl tipo de dato cadena (str de string) es un conjunto de caracteres. Se declaran con comillas simples o comillas dobles, y la máxima longitud dependerá del número de bits del Sistema Operativo."
    },
    {
      "metadata": {
        "id": "M3GISMoxHu_x",
        "colab_type": "code",
        "outputId": "7c3a525e-d718-4611-a2b9-67f183faba05",
        "colab": {
          "base_uri": "https://localhost:8080/",
          "height": 51
        },
        "trusted": false
      },
      "cell_type": "code",
      "source": "#Ejemplo de una cade de caracteres\ncadena=\"Aaron\"\nprint(cadena)\nprint(\"Tipo de dato:\",type(cadena))\n",
      "execution_count": 0,
      "outputs": [
        {
          "output_type": "stream",
          "text": "Aaron\nTipo de dato: <class 'str'>\n",
          "name": "stdout"
        }
      ]
    },
    {
      "metadata": {
        "id": "iGye9c8VWQsA",
        "colab_type": "text"
      },
      "cell_type": "markdown",
      "source": "### 23) Realizar un programa que imprima los siguientes datos correspondientes a tu información personal:\n    Nombre (Tipo string)\n    Edad (Tipo Entero)\n    Número de cuenta (Tipo Entero)\n    Estatura (Tipo float)\n"
    },
    {
      "metadata": {
        "id": "OkU8qaVaWZGq",
        "colab_type": "code",
        "colab": {},
        "trusted": true
      },
      "cell_type": "code",
      "source": "nombre= \"Luis Jurado\"\nedad =20\nno_cuenta=315229619\nestatura= 1.69\nprint(f\"El nombre es: {nombre}\")\nprint(type(nombre))\nprint(f\"La edad es: {edad}\")\nprint(type(edad))\nprint(f\"El numero de cuenta es: {no_cuenta}\")\nprint(type(no_cuenta))\nprint(f\"La estatura es: {estatura}\")\nprint(type(estatura))",
      "execution_count": 2,
      "outputs": [
        {
          "output_type": "stream",
          "text": "El nombre es: Luis Jurado\n<class 'str'>\nLa edad es: 20\n<class 'int'>\nEl numero de cuenta es: 315229619\n<class 'int'>\nLa estatura es: 1.69\n<class 'float'>\n",
          "name": "stdout"
        }
      ]
    },
    {
      "metadata": {
        "id": "IMTrkscnWgax",
        "colab_type": "text"
      },
      "cell_type": "markdown",
      "source": "### 24) Realizar un programa que calcule la masa corporal:\n\n\tFormula: IMC = peso [kg]/ estatura(estatura)\n##### Nota: usar variables de tipo float"
    },
    {
      "metadata": {
        "id": "CrGMiTKgWjkz",
        "colab_type": "code",
        "colab": {},
        "trusted": true
      },
      "cell_type": "code",
      "source": "peso = int(input(\"Ingresa el peso\"))\nestatura = float(input(\"Ingresa la estatura\"))\nprint(f\"Tu IMC es:{peso/estatura}\")",
      "execution_count": 4,
      "outputs": [
        {
          "output_type": "stream",
          "name": "stdout",
          "text": "Ingresa el peso69\nIngresa la estatura1.69\nTu IMC es:40.828402366863905\n"
        }
      ]
    },
    {
      "metadata": {
        "id": "4FxvvwEaWrdj",
        "colab_type": "text"
      },
      "cell_type": "markdown",
      "source": "### Rrealizar un programa que concatene un mensaje con una variable:\n\n    1º) Pida por teclado el nombre (dato de tipo cadena) de una persona.\n    2º) Muestre por pantalla el mensaje: \"Hola <nombre>, buenos días.\"\n    Ejemplo: \n          Hola Aaron, buenos días\n"
    },
    {
      "metadata": {
        "id": "rODneDscW3ZN",
        "colab_type": "code",
        "outputId": "cb1d7226-9f16-4af8-e41f-a144b6b1940a",
        "colab": {
          "base_uri": "https://localhost:8080/",
          "height": 85
        },
        "trusted": true
      },
      "cell_type": "code",
      "source": "#Tú código aquí.\n#Mensaje\nprint(\"Saludo de parte del programa en Python\\n\")\n\n#Entrada de datos y almacenamiento el la variable nombre\nnombre= input(\"Ingrese su nombre para el saludo: \")\n\nprint(\"Hola\",nombre,\", buenos dias\")\n",
      "execution_count": 5,
      "outputs": [
        {
          "output_type": "stream",
          "text": "Saludo de parte del programa en Python\n\nIntrodusca su nombre para el saludo: Luis\nHola  Luis , buenos dias\n",
          "name": "stdout"
        }
      ]
    },
    {
      "metadata": {
        "id": "s0bCck3PW2dL",
        "colab_type": "text"
      },
      "cell_type": "markdown",
      "source": "### 25) Objetivo de ejercicio anterior:\nQue el alumno vea y cómpreda la entrada de datos por medio del teclado usando la palabra reservada input()"
    },
    {
      "metadata": {
        "id": "eGL02sZKY2NK",
        "colab_type": "text"
      },
      "cell_type": "markdown",
      "source": "### 26) Realizar un programa que realiza la conversión de pesos a dólares:\n\n    1º) Pida por teclado una cantidad.\n\n    2º) Calcule su equivalente en dólares.\n\n    3º) Muestre por pantalla el resultado (dato real).\n    \n#### Nota: Precio el dólar 19.56\n\n        Ejemplo:\n        Escribe una cantidad: 45\n        El precio del dólar es: 19.56\n        El total es: 880.20\n\n"
    },
    {
      "metadata": {
        "id": "gQGPkwRQZHIl",
        "colab_type": "code",
        "colab": {},
        "trusted": true
      },
      "cell_type": "code",
      "source": "#Tu código aquí.\ncambio = float(input(\"Ingresa la cantidad a cambiar: \"))\nprint(f\"El cambio fue a: {cambio*19.56}\")",
      "execution_count": 6,
      "outputs": [
        {
          "output_type": "stream",
          "name": "stdout",
          "text": "Ingresa la cantidad a cambiar: 15\nEl cambio fue a: 293.4\n"
        }
      ]
    },
    {
      "metadata": {
        "id": "-X0KRFPWZJzw",
        "colab_type": "text"
      },
      "cell_type": "markdown",
      "source": "### 27) Realizar un programa que calcule el volumen de un cubo.\n\n    1º) Pida por teclado la arista de un cubo.\n\n    2º) Calcule el volumen del cubo.\n\n    3º) Muestre por pantalla el resultado \n#### Nota: Volumen de un cubo = arista *3.\n"
    },
    {
      "metadata": {
        "id": "843MtgGrZMhX",
        "colab_type": "code",
        "colab": {},
        "trusted": true
      },
      "cell_type": "code",
      "source": "aristas = float(input(\"Ingresa la medida del arista:\"))\nprint(f\"El volumen es de {aristas**3}\")",
      "execution_count": 7,
      "outputs": [
        {
          "output_type": "stream",
          "name": "stdout",
          "text": "Ingresa la medida del arista:13\nEl volumen es de 2197.0\n"
        }
      ]
    },
    {
      "metadata": {
        "id": "f3NjqI3uZU3B",
        "colab_type": "text"
      },
      "cell_type": "markdown",
      "source": "### 28) Realizar un programa que haga las siguientes operaciones aritméticas.\n\n      1º) Pida por teclado dos números (datos de tipo entero).\n\n      2º) Calcule la suma, resta, multiplicación y división de los dos números introducidos.\n\n      3º) Muestre por pantalla los resultados (datos enteros).\n"
    },
    {
      "metadata": {
        "id": "5enb1-bbZNrX",
        "colab_type": "code",
        "colab": {},
        "trusted": true
      },
      "cell_type": "code",
      "source": "num1= int(input(\"Ingresa el numero:\"))\nnum2= int(input(\"Ingresa el numero 2: \"))\nprint(f\"El numero uno es: {num1}, el numero 2 es: {num2}\")\nprint(f\"La suma es: {num1+num2}\\nLa resta es: {num1-num2}\\nLa división es: {int(num1/num2)}\\n La multiplicación es: {num1*num2}\")",
      "execution_count": 8,
      "outputs": [
        {
          "output_type": "stream",
          "name": "stdout",
          "text": "Ingresa el numero:5\nIngresa el numero 2: 3\nEl numero uno es: 5, el numero 2 es: 3\nLa suma es: 8\nLa resta es: 2\nLa división es: 1\n La multiplicación es: 15\n"
        }
      ]
    },
    {
      "metadata": {
        "id": "tFp4c2HsZgpb",
        "colab_type": "text"
      },
      "cell_type": "markdown",
      "source": "### Realizar un programa que calcule el promedio de calificaciones.\n\n      1º) Pida por teclado la calificación de tres exámenes (datos reales).\n\n      2º) Calcule la nota media de los tres exámenes.\n\n      3º) Muestre por pantalla el resultado (dato real).\n"
    },
    {
      "metadata": {
        "id": "_9_B-eJ4ZNuk",
        "colab_type": "code",
        "outputId": "e3c94e9d-b219-4891-eba8-93a2f419cf70",
        "colab": {
          "base_uri": "https://localhost:8080/",
          "height": 187
        },
        "trusted": true
      },
      "cell_type": "code",
      "source": "print(\"Programa de calificaciones\\n\")\n#Intruduccion de datos\n\"\"\"La notacion de \nnota1= int(input(\"Numero\"))\nes un casteo\n\"\"\"\nnota1= int (input(\"\\n   Introduzca la calificación del primer examen: \"))\nnota2= int (input(\"\\n   Introduzca la calificación del segundo examen: \"))\nnota3= int (input(\"\\n   Introduzca la calificación del tercer examen: \"))\n\nmedia = ( nota1 + nota2 + nota3 ) / 3;\n\n\nprint(f\"\\n   El promedio  es: {media}\" );\n",
      "execution_count": 9,
      "outputs": [
        {
          "output_type": "stream",
          "text": "Programa de calificaciones\n\n\n   Introduzca la calificación del primer examen: 10\n\n   Introduzca la calificación del segundo examen: 10\n\n   Introduzca la calificación del tercer examen: 10\n\n   El promedio  es: 10.0\n",
          "name": "stdout"
        }
      ]
    },
    {
      "metadata": {
        "id": "lf1kJP90Zf-d",
        "colab_type": "text"
      },
      "cell_type": "markdown",
      "source": "### Un concepto interesante que necesita mencionarse será el del “casteo”, que es convertir un tipo de dato a otro. Por ejemplo:\n∙    Entero    🡪 Booleano.\n\n∙    Cadena    🡪 Entero.\n\n∙    Entero    🡪 Cadena.\n"
    },
    {
      "metadata": {
        "id": "rPk5-36wZNyq",
        "colab_type": "code",
        "outputId": "8b40b5f8-4e25-4905-ec9d-c30774455be1",
        "colab": {
          "base_uri": "https://localhost:8080/",
          "height": 51
        },
        "trusted": true
      },
      "cell_type": "code",
      "source": "#Ejemplo de casteo\nbooleano= True\nprint(\"booleano: \",booleano)\n\n##casteo \nentero = int (booleano)\n\nprint(\"Ejemplo de casteo: \",entero)",
      "execution_count": 10,
      "outputs": [
        {
          "output_type": "stream",
          "text": "booleano:  True\nEjemplo de casteo:  1\n",
          "name": "stdout"
        }
      ]
    },
    {
      "metadata": {
        "id": "sxqq0ysXZhNJ",
        "colab_type": "text"
      },
      "cell_type": "markdown",
      "source": "### 29) Realizar un programa que intercambie los valores de las variables:\n\n1º) Pida por teclado dos números (datos enteros) y sean almacenados en dos variables, llamadas v1 y v2.\n\n2º) Intercambie los valores de las variables.\n\n3º) Muestre por pantalla los valores contendidos en las variables.\n\nEjemplo: \n      \n      Introduzca el valor de v1: 15\n      Introduzca el valor de v2: 20\n      \n      Intercambio de los valores…….\n      \n      Ahora, el valor de v1 es: 20\n      Ahora, el valor de v2 es: 15\n\n"
    },
    {
      "metadata": {
        "id": "Ho2F2bhcZN5e",
        "colab_type": "code",
        "colab": {},
        "trusted": true
      },
      "cell_type": "code",
      "source": "v1 = int(input(\"Ingrese el primer valor: \"))\nv2 = int(input(\"Ingrese el segundo valor: \"))\nprint(f\"El valor de v1 es: {v1}\\nEl valor de v2 es: {v2}\")\ntemp = v1\nv1=v2\nv2 = temp\nprint(\"El cambio de variables....\")\nprint(f\"El valor de v1 es: {v1}\\nEl valor de v2 es: {v2}\")\n",
      "execution_count": 11,
      "outputs": [
        {
          "output_type": "stream",
          "name": "stdout",
          "text": "Ingrese el primer valor: 3\nIngrese el segundo valor: 5\nEl valor de v1 es: 3\nEl valor de v2 es: 5\nEl cambio de variables....\nEl valor de v1 es: 5\nEl valor de v2 es: 3\n"
        }
      ]
    },
    {
      "metadata": {
        "id": "khgnAMKlZhtL",
        "colab_type": "text"
      },
      "cell_type": "markdown",
      "source": "\n### Realizar un programa que distinga si un número es par o impar.\n\nObjetivo: que el alumno este familiarizado con la estructura de control “if” y este familiarizando con ella\n\n1º) Pida por teclado un número (dato entero).\n\n2º) Muestre por pantalla:\n\n      \"ES PAR\", en el caso de que el número sea divisible entre 2.\n\n      \"ES IMPAR\", en el caso de que el número no sea divisible entre 2. \n"
    },
    {
      "metadata": {
        "id": "7fqQ2D1TLKw1",
        "colab_type": "code",
        "outputId": "4c13e4d5-1556-4428-f284-ab1d5365643e",
        "colab": {
          "base_uri": "https://localhost:8080/",
          "height": 119
        },
        "trusted": false
      },
      "cell_type": "code",
      "source": "# Comparacion de numeros\nprint(\"Conparacion de numeros de par o impar\\n\")\n\nnumero= int(input(\"Introduce un Numero entero: \"))\nif numero%2 == 0:\n  print(\"\\nEl numero es par.\\n Su numero es: \", numero)\n\nelse:\n  print(\"\\nEl numero es Impar.\\n Su numero es: \", numero)",
      "execution_count": 0,
      "outputs": [
        {
          "output_type": "stream",
          "text": "Conparacion de numeros de par o impar\n\nIntroduce un Numero entero: 10\n\nEl numero es par.\n Su numero es:  10\n",
          "name": "stdout"
        }
      ]
    },
    {
      "metadata": {
        "id": "84Tnng4sNnoY",
        "colab_type": "text"
      },
      "cell_type": "markdown",
      "source": "### Sintaxis de la sentencia condicional if ... else ...\nif condición:\n\n    aquí van las órdenes que se ejecutan si la condición es cierta\n    y que pueden ocupar varias líneas\n    \nelse:\n\n    y aquí van las órdenes que se ejecutan si la condición es\n    falsa y que también pueden ocupar varias líneas\n\nLa ejecución de esta construcción es la siguiente:\n\nLa condición se evalúa siempre.\n\n        Si el resultado es True se ejecuta solamente el bloque de sentencias 1\n        Si el resultado es False se ejecuta solamente el bloque de sentencias 2."
    },
    {
      "metadata": {
        "id": "q_b8SMQ2OFNi",
        "colab_type": "code",
        "outputId": "89524c35-6116-4cd1-c8f0-bb3afca277ed",
        "colab": {
          "base_uri": "https://localhost:8080/",
          "height": 68
        },
        "trusted": false
      },
      "cell_type": "code",
      "source": "#Ejemplo\nedad = int(input(\"¿Cuántos años tiene? \"))\nif edad < 18:\n    print(\"Es usted menor de edad\")\nelse:\n    print(\"Es usted mayor de edad\")\nprint(\"¡Hasta la próxima!\")",
      "execution_count": 0,
      "outputs": [
        {
          "output_type": "stream",
          "text": "¿Cuántos años tiene? 18\nEs usted mayor de edad\n¡Hasta la próxima!\n",
          "name": "stdout"
        }
      ]
    },
    {
      "metadata": {
        "id": "zbS7y_xWOW2U",
        "colab_type": "text"
      },
      "cell_type": "markdown",
      "source": "#### 30) Realizar un programa que muestre cuando un año es o no bisiesto.\n\n1º) Pida por teclado un año (dato entero).\n\n2º) Muestre por pantalla:\n\n\"ES BISIESTO\", en el caso de que el año sea bisiesto.\n\n\"NO ES BISIESTO\", en el caso de que el año no sea bisiesto.\n\n##### Nota: Son bisiestos todos los años múltiplos de 4, excepto aquellos que son múltiplos de 100 pero no de 400. Por ejemplo, años múltiplos de 4 son:\n\n     4, 8, 20, 100, 200, 400, 1000, 2000, 2100, 2800...\n      De ellos, años múltiplos de 100 pero no de 400 son:\n      100, 200, 1000, 2100...\n      Así que, de los años enumerados, bisiestos son:\n      4, 8, 20, 400, 2000, 2800...\n"
    },
    {
      "metadata": {
        "id": "KaA9aigpZN9F",
        "colab_type": "code",
        "colab": {},
        "trusted": true
      },
      "cell_type": "code",
      "source": "    año = int(input(\"Ingresa el año: \"))\n    if año%4==0 and año%100!=0 or año%400==0:\n        print(\"El año es bisiesto\")\n    else: \n        print(\"El año no es bisiesto\")",
      "execution_count": 12,
      "outputs": [
        {
          "output_type": "stream",
          "name": "stdout",
          "text": "Ingresa el año: 2016\nEl año es bisiesto\n"
        }
      ]
    },
    {
      "metadata": {
        "id": "hqSnSYH9ZiOS",
        "colab_type": "text"
      },
      "cell_type": "markdown",
      "source": "### 31) Realizar un programa que distinga si una letra es vocal o no.\n1º) Pida por teclado una letra (dato carácter) del abecedario.\n\n2º) Muestre por pantalla:\n\n      \"ES UNA VOCAL\", cuando la letra introducida sea una vocal minúscula (a, e, i, o, u) o una vocal mayúscula (A, E, I, O, U).\n      \"NO ES UNA VOCAL\", cuando la letra introducida no sea una vocal minúscula (a, e, i, o, u) ni una vocal mayúscula (A, E, I, O, U).\n"
    },
    {
      "metadata": {
        "id": "Z_zpLkYJOxcu",
        "colab_type": "code",
        "colab": {},
        "trusted": true
      },
      "cell_type": "code",
      "source": "vocal = input(\"Introduce una vocal: \")\nvocales=['a','e','i','o','u','A','E','I','O','U']\nfor i in vocales:\n    if i==vocal:\n        print(f\"Tu vocal es :{i}\")\n    ",
      "execution_count": 6,
      "outputs": [
        {
          "output_type": "stream",
          "name": "stdout",
          "text": "Introduce una vocal: 3\n"
        }
      ]
    },
    {
      "metadata": {
        "id": "vTCBh8KYO8W2",
        "colab_type": "text"
      },
      "cell_type": "markdown",
      "source": "### 32) Realizar un programa que distinga si un número es o no múltiplo de 3.\n\n1º) Pida por teclado un número (dato entero).\n\n2º) Muestre por pantalla:\n\n      \"ES MÚLTIPLO DE 3\", en el caso de que el número sea divisible entre 3.\n      \"NO ES MÚLTIPLO DE 3\", en el caso de que el número no sea divisible entre \n\n#### Nota: usar la estructura de control “If else”\n"
    },
    {
      "metadata": {
        "id": "Z-kXSgNSPE92",
        "colab_type": "code",
        "colab": {},
        "trusted": false
      },
      "cell_type": "markdown",
      "source": "### numero = int(input(\"Ingrese un numero: \"))\nif numero%3==0:\n    print(\"El número es multiplo de 3\")\nelse:\n    print(\"El número no es multiplo de 3\")"
    },
    {
      "metadata": {
        "id": "m2mV08MwPKKw",
        "colab_type": "text"
      },
      "cell_type": "markdown",
      "source": "### Realizar un programa que verifique si una suma es correcta.\n\n    1º) Pida por teclado dos números (datos enteros).\n    2º) Pregunte al usuario cuánto es la suma de ambos números.\n    3º) Muestre por pantalla:\n\n    \"CORRECTO\", en el caso de que el usuario conteste correctamente.\n    \"INCORRECTO: La suma es <suma>\", en el caso de que el usuario conteste incorrectamente.\n"
    },
    {
      "metadata": {
        "id": "us14iOBsPGqz",
        "colab_type": "code",
        "outputId": "c7da646d-2b95-4e21-987b-d520e47fb78a",
        "colab": {
          "base_uri": "https://localhost:8080/",
          "height": 153
        },
        "trusted": false
      },
      "cell_type": "code",
      "source": "#Tú código aquí.\nnumero1 = int (input(\"\\n   Introduzca un numero entero: \"))\nnumero2 = int (input(\"\\n   Introduzca otr numero entero: \"))\n\nResultado_Suma = int (input(\"\\n   Escribe el resultado: \"))\n\nresultado= numero1+numero2\n\nif resultado==Resultado_Suma:\n  print(\"\\n Correcto\")\nelse:\n   print(\"\\n Incorrecto: la suma es: \",resultado)\n",
      "execution_count": 0,
      "outputs": [
        {
          "output_type": "stream",
          "text": "\n   Introduzca un numero entero: 3\n\n   Introduzca otr numero entero: 5\n\n   Escribe el resultado: 8\n\n Correcto\n",
          "name": "stdout"
        }
      ]
    },
    {
      "metadata": {
        "id": "ghMAa1b2QWPJ",
        "colab_type": "text"
      },
      "cell_type": "markdown",
      "source": "### 33) Realizar un programa que pida un número del 1 al N número y diga si es primo o no.\n#### Nota: usar la estructura “if”\n"
    },
    {
      "metadata": {
        "id": "oaxN6SkQPHJK",
        "colab_type": "code",
        "colab": {},
        "trusted": true
      },
      "cell_type": "code",
      "source": "def verificar_si_mismo(number):\n    if number<2:\n        return False\n    elif number==2:\n        return True\n    elif number>2 and number%2==0:\n        return False\n    else:\n        for i in range(3,number):\n            if number % i ==0:\n                return False\n                pass\n            pass \n    return True\n    \ndef run():\n    num_Evaluar = int(input(\"Ingresa el numero: \\n\"))\n    if verificar_si_mismo(num_Evaluar):\n        print(\"Es primo\")\n    else:\n        print(\"No es primo\")\nif __name__ == '__main__':\n    run()",
      "execution_count": 7,
      "outputs": [
        {
          "output_type": "stream",
          "name": "stdout",
          "text": "Ingresa el numero: \n5\nEs primo\n"
        }
      ]
    },
    {
      "metadata": {
        "id": "6QrgadZWQbny",
        "colab_type": "text"
      },
      "cell_type": "markdown",
      "source": "### 34) Realizar un programa que que sólo permita introducir los caracteres S y N.\n#### Nota: usar la estructura “if”\n"
    },
    {
      "metadata": {
        "id": "XN-njJZ9PHYP",
        "colab_type": "code",
        "colab": {},
        "trusted": true
      },
      "cell_type": "code",
      "source": "caracter = input(\"Ingrese el Caracter S o N \")\ncara_validacion= ['s','S','N','n']\nfor i in cara_validacion:\n    if cara_validacion==caracter:\n        print(\"Ingresaste un caracter valido\")\n        break\n    else: \n        print(\"No ingresaste un caracter valido\")\n        break",
      "execution_count": 9,
      "outputs": [
        {
          "output_type": "stream",
          "name": "stdout",
          "text": "Ingrese el Caracter S o N w\nNo ingresaste un caracter valido\n"
        }
      ]
    },
    {
      "metadata": {
        "id": "EYvrUiTxQfQn",
        "colab_type": "text"
      },
      "cell_type": "markdown",
      "source": "### 35)Realizar un programa que muestre un menú que contemple las opciones \n    “1) Archivo”\t\t\tmensaje: “Dentro del archivo”\n    “2) Buscar” \t\t\tmensaje: ”Estas Buscando”\n    “3) Salir”\t\t\t  mensaje: ”Vas a salir”\n\nCuando se selección una opciones que despliegue un mensaje.\nEn caso de que no se introduzca una opción correcta se notificará por pantalla con el mensaje de “Error”.\n##### Nota usar la estructura “ if ”\n"
    },
    {
      "metadata": {
        "id": "WkCRWhmtPHpp",
        "colab_type": "code",
        "colab": {},
        "trusted": true
      },
      "cell_type": "code",
      "source": "valor=int(input(\"1. Archivo.\\n2. Buscar.\\n3. Salir.\\n\"))\nif valor is 1:\n    print(\"Estás dentro del archivo\")\n    \nelif valor is 2:\n    print(\"Estás buscando\")\nelif valor is 3:\n    print(\"Vas a salir\")\nelse:\n    print(\"Error\")",
      "execution_count": 12,
      "outputs": [
        {
          "output_type": "stream",
          "name": "stdout",
          "text": "1. Archivo.\n2. Buscar.\n3. Salir.5\nError\n"
        }
      ]
    },
    {
      "metadata": {
        "id": "ilXMjDn4QxjY",
        "colab_type": "text"
      },
      "cell_type": "markdown",
      "source": "#### Realizar programa que muestre por pantalla los primeros 456 números naturales usando la estructura de control “while”:"
    },
    {
      "metadata": {
        "id": "1i4AD56GPH4g",
        "colab_type": "code",
        "outputId": "39cfc5bb-0ff8-4c8e-a679-15660f39a578",
        "colab": {
          "base_uri": "https://localhost:8080/",
          "height": 1000
        },
        "trusted": false
      },
      "cell_type": "code",
      "source": "#Tú código aquí.\ncontador=1 #Inicializador del contador\nprint(\"\\n\")\n\nwhile contador <= 456:\n  print(contador) #Salida\n  contador +=1   #Incremento del contador\n",
      "execution_count": 0,
      "outputs": [
        {
          "output_type": "stream",
          "text": "\n\n1\n2\n3\n4\n5\n6\n7\n8\n9\n10\n11\n12\n13\n14\n15\n16\n17\n18\n19\n20\n21\n22\n23\n24\n25\n26\n27\n28\n29\n30\n31\n32\n33\n34\n35\n36\n37\n38\n39\n40\n41\n42\n43\n44\n45\n46\n47\n48\n49\n50\n51\n52\n53\n54\n55\n56\n57\n58\n59\n60\n61\n62\n63\n64\n65\n66\n67\n68\n69\n70\n71\n72\n73\n74\n75\n76\n77\n78\n79\n80\n81\n82\n83\n84\n85\n86\n87\n88\n89\n90\n91\n92\n93\n94\n95\n96\n97\n98\n99\n100\n101\n102\n103\n104\n105\n106\n107\n108\n109\n110\n111\n112\n113\n114\n115\n116\n117\n118\n119\n120\n121\n122\n123\n124\n125\n126\n127\n128\n129\n130\n131\n132\n133\n134\n135\n136\n137\n138\n139\n140\n141\n142\n143\n144\n145\n146\n147\n148\n149\n150\n151\n152\n153\n154\n155\n156\n157\n158\n159\n160\n161\n162\n163\n164\n165\n166\n167\n168\n169\n170\n171\n172\n173\n174\n175\n176\n177\n178\n179\n180\n181\n182\n183\n184\n185\n186\n187\n188\n189\n190\n191\n192\n193\n194\n195\n196\n197\n198\n199\n200\n201\n202\n203\n204\n205\n206\n207\n208\n209\n210\n211\n212\n213\n214\n215\n216\n217\n218\n219\n220\n221\n222\n223\n224\n225\n226\n227\n228\n229\n230\n231\n232\n233\n234\n235\n236\n237\n238\n239\n240\n241\n242\n243\n244\n245\n246\n247\n248\n249\n250\n251\n252\n253\n254\n255\n256\n257\n258\n259\n260\n261\n262\n263\n264\n265\n266\n267\n268\n269\n270\n271\n272\n273\n274\n275\n276\n277\n278\n279\n280\n281\n282\n283\n284\n285\n286\n287\n288\n289\n290\n291\n292\n293\n294\n295\n296\n297\n298\n299\n300\n301\n302\n303\n304\n305\n306\n307\n308\n309\n310\n311\n312\n313\n314\n315\n316\n317\n318\n319\n320\n321\n322\n323\n324\n325\n326\n327\n328\n329\n330\n331\n332\n333\n334\n335\n336\n337\n338\n339\n340\n341\n342\n343\n344\n345\n346\n347\n348\n349\n350\n351\n352\n353\n354\n355\n356\n357\n358\n359\n360\n361\n362\n363\n364\n365\n366\n367\n368\n369\n370\n371\n372\n373\n374\n375\n376\n377\n378\n379\n380\n381\n382\n383\n384\n385\n386\n387\n388\n389\n390\n391\n392\n393\n394\n395\n396\n397\n398\n399\n400\n401\n402\n403\n404\n405\n406\n407\n408\n409\n410\n411\n412\n413\n414\n415\n416\n417\n418\n419\n420\n421\n422\n423\n424\n425\n426\n427\n428\n429\n430\n431\n432\n433\n434\n435\n436\n437\n438\n439\n440\n441\n442\n443\n444\n445\n446\n447\n448\n449\n450\n451\n452\n453\n454\n455\n456\n",
          "name": "stdout"
        }
      ]
    },
    {
      "metadata": {
        "id": "8MSPZoKuSd56",
        "colab_type": "text"
      },
      "cell_type": "markdown",
      "source": "### El bucle while\nUn bucle while permite repetir la ejecución de un grupo de instrucciones mientras se cumpla una condición (es decir, mientras la condición tenga el valor True).\n\nLa sintaxis del bucle while es la siguiente:\n\n      while condicion:\n          cuerpo del bucle\n### La ejecución de esta estructura de control while es la siguiente:\n\nPython evalúa la condición:\n\n    si el resultado es True se ejecuta el cuerpo del bucle. Una vez ejecutado el cuerpo del bucle, se repite el proceso (se evalúa de nuevo la condición y, si es cierta, se ejecuta de nuevo el cuerpo del bucle) una y otra vez mientras la condición sea cierta.\n\n    si el resultado es False, el cuerpo del bucle no se ejecuta y continúa la ejecución del resto del programa."
    },
    {
      "metadata": {
        "id": "IY_Y_Yo9PIGB",
        "colab_type": "code",
        "outputId": "65fd69a3-175a-4350-8425-1d472388022d",
        "colab": {
          "base_uri": "https://localhost:8080/",
          "height": 68
        },
        "trusted": false
      },
      "cell_type": "code",
      "source": "#Tú código aquí.\n#Ejemplo\nnumero = int(input(\"Escriba un número positivo: \"))\nwhile numero < 0: #validacion\n    print(\"\\n ¡Ha escrito un número negativo! Inténtelo de nuevo\")\n    numero = int(input(\"Escriba un número positivo: \"))\nprint(\"\\n Gracias\")",
      "execution_count": 0,
      "outputs": [
        {
          "output_type": "stream",
          "text": "Escriba un número positivo: 10\n\n Gracias\n",
          "name": "stdout"
        }
      ]
    },
    {
      "metadata": {
        "id": "yBtsv1l8TH1g",
        "colab_type": "text"
      },
      "cell_type": "markdown",
      "source": "### 36) Escribir un programa que diga si el alumno esta “Aprobado” o “Reprobado” de acuerdo a su calificación.\n\n    1º) Pida por teclado la nota (dato real) de una asignatura.\n    2º) En el caso de que la nota sea incorrecta, muestre por pantalla el mensaje:\n      \"ERROR: Nota incorrecta, debe ser >= 0 y <= 10\".\n    3º) Repita los pasos 1º y 2º, mientras que, la nota introducida sea incorrecta.\n    4º) Muestre por pantalla:\n\n    \"APROBADO\", en el caso de que la nota sea mayor o igual que 5.\n    \"REPROBADO\", en el caso de que la nota sea menor que 5.\n#### Nota: Utilizar un bucle while.\n"
    },
    {
      "metadata": {
        "id": "8kgLngEqPISY",
        "colab_type": "code",
        "colab": {},
        "trusted": true
      },
      "cell_type": "code",
      "source": "temp = True\nwhile(temp):\n    dato= int(input(\"Ingrese la calificación.\\n\"))\n    if dato<0 or dato>10:\n        print(\"La nota es incorrecta\")\n    else:\n        temp= False\nif dato>0 and dato<10:\n    if dato<=5:\n        print(\"Reprobado\")\n    else:\n        print(\"Aprobado\")",
      "execution_count": 2,
      "outputs": [
        {
          "output_type": "stream",
          "name": "stdout",
          "text": "Ingrese la calificación.\n12\nLa nota es incorrecta\nIngrese la calificación.\n3\nReprobado\n"
        }
      ]
    },
    {
      "metadata": {
        "id": "QbQCeXR2TRwo",
        "colab_type": "text"
      },
      "cell_type": "markdown",
      "source": ""
    },
    {
      "metadata": {
        "id": "_z819h1mYwaS",
        "colab_type": "text"
      },
      "cell_type": "markdown",
      "source": "### 37) Escribir un programa que calcule el área de un cubo.\n\n1º) Pida por teclado la arista (dato real) de un cubo.\n\n2º) En el caso de que la arista sea menor o igual que 0, muestre por pantalla el mensaje:\n\n\"ERROR: La arista debe ser mayor que cero.\"\n3º) Repita los pasos 1º y 2º, mientras que, la arista introducida sea incorrecta.\n\n4º) Muestre por pantalla:\n\n      \"El área de un cubo de arista <arista> es: <área>.\"\n      Nota1: área de un cubo = 6 * arista2\n      Nota: Utilizar un bucle while.\n\n"
    },
    {
      "metadata": {
        "id": "jLmF9LpfPIlb",
        "colab_type": "code",
        "colab": {},
        "trusted": true
      },
      "cell_type": "code",
      "source": "temp = True \nwhile(True):\n    arista=int(input(\"Ingresa el arista: \"))\n    if arista<=0:\n        print(\"ERROR: El arista debe ser mayor a Cero.\")\n    else:\n        print(f\"El valor del area del cubo es: {arista**3}\")\n        break\n        ",
      "execution_count": 1,
      "outputs": [
        {
          "output_type": "stream",
          "name": "stdout",
          "text": "Ingresa el arista: 0\nERROR: El arista debe ser mayor a Cero.\nIngresa el arista: 3\nEl valor del area del cubo es: 27\n"
        }
      ]
    },
    {
      "metadata": {
        "id": "pFEi8nl5ZEUg",
        "colab_type": "text"
      },
      "cell_type": "markdown",
      "source": "### 38) Escribir un programa que haga una suma de los cuadrados calculados \n    1º) Pida por teclado un número (dato entero).\n    2º) Muestre por pantalla el mensaje:\n      \"<número> elevado a 2 es: <cuadrado>\"\n    3º) Pregunte al usuario si desea introducir otro número o no.\n    4º) Repita los pasos 1º, 2º y 3º, mientras que, el usuario no responda 'n' de (no).\n    5º) Muestre por pantalla la suma de los cuadrados calculados.\n    \n#### Ejemplo:\n        Introducir un numero entero: 6\n        6 elevado a 2 es:36\n        ¿Desea introducir otro numero (s/n)?: s\n        Introducir un numero entero: 3\n        3 elevado a 2 es: 9\n        ¿Desea introducir otro número (s/n)? n\n        La suma de los cuadrados calculados es: 45\n"
    },
    {
      "metadata": {
        "id": "qLWW2WJLPIuf",
        "colab_type": "code",
        "colab": {},
        "trusted": true
      },
      "cell_type": "code",
      "source": "temp = True\nwhile(temp):\n    num = int(input(\"Ingrese el numero: \"))\n    print(f\"El número {num} elevado al cuadrado es {num**2}\")\n    \n    caracter = input(\"Para hacerlo de nuevo presione \\\"S\\\" para salir presione \\\"N\\\" \")\n    cara_validacion= ['s','S']\n    for i in cara_validacion:\n        if cara_validacion==caracter:\n            continue\n        else: \n            temp = False\n    ",
      "execution_count": 1,
      "outputs": [
        {
          "output_type": "stream",
          "name": "stdout",
          "text": "Ingrese el numero: 5\nEl número 5 elevado al cuadrado es 25\nPara hacerlo de nuevo presione \"S\" para salir presione \"N\" N\n"
        }
      ]
    },
    {
      "metadata": {
        "id": "PuFkl5feZOcr",
        "colab_type": "text"
      },
      "cell_type": "markdown",
      "source": "### 39) Hacer un programa que te permita calcular los gastos realizados durante el día, para ello al iniciar la ejecución te pedirá uno a uno el monto de los gastos y para finalizar la captura ingresaras un valor -1. Al salir de la captura debe mostrar en pantalla el total de gastos realizados en el día."
    },
    {
      "metadata": {
        "id": "MHFqaJCdY2r9",
        "colab_type": "code",
        "colab": {},
        "trusted": true
      },
      "cell_type": "code",
      "source": "temp = True \ntotal =0\nwhile(temp):\n    monto = int(input(\"Ingresa el monto. \\nIngresa -1 para salir\"))\n    if monto is -1:\n        temp = False\n    else:\n        total += monto\nprint(f\"El monto fue de: {total}\")",
      "execution_count": 6,
      "outputs": [
        {
          "output_type": "stream",
          "name": "stdout",
          "text": "Ingresa el monto. \nIngresa -1 para salir5\nIngresa el monto. \nIngresa -1 para salir9\nIngresa el monto. \nIngresa -1 para salir10\nIngresa el monto. \nIngresa -1 para salir-1\nEl monto fue de: 24\n"
        }
      ]
    },
    {
      "metadata": {
        "id": "7ufUUv8feKMW",
        "colab_type": "text"
      },
      "cell_type": "markdown",
      "source": "## Bucle For \nEn general, un bucle es una estructura de control que repite un bloque de instrucciones. Un bucle for es un bucle que repite el bloque de instrucciones un número prederminado de veces. El bloque de instrucciones que se repite se suele llamar cuerpo del bucle y cada repetición se suele llamar iteración.\n\nLa sintaxis de un bucle for es la siguiente:\n\n    for variable in elemento iterable (lista, cadena, range, etc.):\n        cuerpo del bucle"
    },
    {
      "metadata": {
        "id": "iuV6HIPse0ku",
        "colab_type": "text"
      },
      "cell_type": "markdown",
      "source": "### Contadores y acumuladores\nEn muchos programas se necesitan variables que cuenten cuántas veces ha ocurrido algo (contadores) o que acumulen valores (acumuladores). \n### Contador\nSe entiende por contador una variable que lleva la cuenta del número de veces que se ha cumplido una condición.\n\n      El ejemplo siguiente es un ejemplo de programa con contador (en este caso, la variable que hace de contador es la variable cuenta):"
    },
    {
      "metadata": {
        "id": "10IkBY7GfBTK",
        "colab_type": "code",
        "outputId": "953cda50-1403-434b-d631-c8bad27ad719",
        "colab": {
          "base_uri": "https://localhost:8080/",
          "height": 51
        },
        "trusted": false
      },
      "cell_type": "code",
      "source": "print(\"Inicio\")\ncuenta = 0 #inicializa la variable\nfor i in range(1, 6):\n    if i % 2 == 0:\n        cuenta = cuenta + 1\nprint(f\"Desde 1 hasta 5 hay {cuenta} múltiplos de 2\")",
      "execution_count": 0,
      "outputs": [
        {
          "output_type": "stream",
          "text": "Inicio\nDesde 1 hasta 5 hay 2 múltiplos de 2\n",
          "name": "stdout"
        }
      ]
    },
    {
      "metadata": {
        "id": "dWZOfyHtgBv-",
        "colab_type": "text"
      },
      "cell_type": "markdown",
      "source": "### Range(n,m,p)\nEl tipo range con tres argumentos se escribe range(m, n, p) y crea una lista inmutable de enteros que empieza en m y acaba justo antes de superar o igualar a n, aumentando los valores de p en p. Si p es negativo, los valores van disminuyendo de p en p."
    },
    {
      "metadata": {
        "id": "8de-i-yIfcDN",
        "colab_type": "code",
        "outputId": "61c669fb-b0ab-4220-e1d4-43307191f48c",
        "colab": {
          "base_uri": "https://localhost:8080/",
          "height": 357
        },
        "trusted": false
      },
      "cell_type": "code",
      "source": "numero=0\nfor numero in range(0,50,5):\n  #numero+1\n  print(\"\\n\",numero)\n  ",
      "execution_count": 0,
      "outputs": [
        {
          "output_type": "stream",
          "text": "\n 0\n\n 5\n\n 10\n\n 15\n\n 20\n\n 25\n\n 30\n\n 35\n\n 40\n\n 45\n",
          "name": "stdout"
        }
      ]
    },
    {
      "metadata": {
        "id": "2rbwKgDsfSD3",
        "colab_type": "text"
      },
      "cell_type": "markdown",
      "source": "### Acumulador\nSe entiende por acumulador una variable que acumula el resultado de una operación. \n\nEl ejemplo siguiente es un ejemplo de programa con acumulador (en este caso, la variable que hace de acumulador es la variable suma):"
    },
    {
      "metadata": {
        "id": "_ep8VuBgfW0K",
        "colab_type": "code",
        "outputId": "fd5193fa-1f1e-4a83-9cc9-1d120b647294",
        "colab": {
          "base_uri": "https://localhost:8080/",
          "height": 51
        },
        "trusted": false
      },
      "cell_type": "code",
      "source": "print(\"Inicio\")\nsuma = 0\nfor i in [1, 2, 3, 4]:\n    suma = suma + i\nprint(f\"La suma de los números de 1 a 4 es {suma}\")\n",
      "execution_count": 0,
      "outputs": [
        {
          "output_type": "stream",
          "text": "Inicio\nLa suma de los números de 1 a 4 es 10\n",
          "name": "stdout"
        }
      ]
    },
    {
      "metadata": {
        "id": "yzGOWP76ZZHA",
        "colab_type": "text"
      },
      "cell_type": "markdown",
      "source": "### Escribir un programa que muestre por pantalla las primeras diez potencias del numero 2"
    },
    {
      "metadata": {
        "id": "7P0EUZGfY28I",
        "colab_type": "code",
        "outputId": "e73f2779-62a4-47e2-9fee-ebd8ec276c22",
        "colab": {
          "base_uri": "https://localhost:8080/",
          "height": 187
        },
        "trusted": false
      },
      "cell_type": "code",
      "source": "#Tú código aquí.\n\nfor i in range(10):\n  print(\"Numero: 2^\",i,\"=\",pow(2,i))\n  ",
      "execution_count": 0,
      "outputs": [
        {
          "output_type": "stream",
          "text": "Numero: 2^ 0 = 1\nNumero: 2^ 1 = 2\nNumero: 2^ 2 = 4\nNumero: 2^ 3 = 8\nNumero: 2^ 4 = 16\nNumero: 2^ 5 = 32\nNumero: 2^ 6 = 64\nNumero: 2^ 7 = 128\nNumero: 2^ 8 = 256\nNumero: 2^ 9 = 512\n",
          "name": "stdout"
        }
      ]
    },
    {
      "metadata": {
        "id": "RJKUXjFzcvFf",
        "colab_type": "text"
      },
      "cell_type": "markdown",
      "source": "### 40) Escribir un programa que imprima en pantalla un ciclo de la palabra “Hola” N veces y tenga el numero al que pertenece. \n\n\tEjemplo: 1 Hola, 2 Hola, ….\n#### Nota: usar la estructura “for”\n"
    },
    {
      "metadata": {
        "id": "S1Gv7NREY3K-",
        "colab_type": "code",
        "colab": {},
        "trusted": true
      },
      "cell_type": "code",
      "source": "for i in range(10):\n    print(f\" {i}Hola\", end=',')",
      "execution_count": 9,
      "outputs": [
        {
          "output_type": "stream",
          "text": "0Hola ,1Hola ,2Hola ,3Hola ,4Hola ,5Hola ,6Hola ,7Hola ,8Hola ,9Hola ,",
          "name": "stdout"
        }
      ]
    },
    {
      "metadata": {
        "id": "sjCj5v-BdRPJ",
        "colab_type": "text"
      },
      "cell_type": "markdown",
      "source": "### 41) Escribir un programa que realice la tabla de multiplicar del 3 \n#####Nota: usar la estructura “for”\n"
    },
    {
      "metadata": {
        "id": "eO7uhGdCY3Xl",
        "colab_type": "code",
        "colab": {},
        "trusted": true
      },
      "cell_type": "code",
      "source": "temp=11\nfor i in range(1, temp):\n    print(f\"3*{i}={3*i} \")\n    ",
      "execution_count": 14,
      "outputs": [
        {
          "output_type": "stream",
          "text": "3*1=3 \n3*2=6 \n3*3=9 \n3*4=12 \n3*5=15 \n3*6=18 \n3*7=21 \n3*8=24 \n3*9=27 \n3*10=30 \n",
          "name": "stdout"
        }
      ]
    },
    {
      "metadata": {
        "id": "fiv1CObYdX8B",
        "colab_type": "text"
      },
      "cell_type": "markdown",
      "source": "#### 42) Escribir un programa que imprima la tabla de multiplicar con el rango que desee el usuario.\n    1º) Que pida por teclado dos números enteros, el segundo debe ser mayor al primero.\n    2º) El primer numero especifica el limite inferior y el segundo el límite superior.\n\n#### Nota: usar la estructura “for”\n"
    },
    {
      "metadata": {
        "id": "H2nhoQNLY3js",
        "colab_type": "code",
        "colab": {},
        "trusted": true
      },
      "cell_type": "code",
      "source": "while(True):\n    num= int(input(\"Ingresa el límite inferior de la tabla: \"))\n    num2= int(input(\"Ingresa el límite superior de la tabla: \"))\n    valor_tabla=int(input(\"Se multiplicará por: \"))\n    if num2<num:\n        print(\"Estas mal el primero debe ser mayor\")\n    else:\n        num2=num2+1\n        for i in range(num,num2,1):\n            print(f\"{valor_tabla}* {i}= {valor_tabla*i}\")\n        break",
      "execution_count": 17,
      "outputs": [
        {
          "output_type": "stream",
          "name": "stdout",
          "text": "Ingresa el límite inferior de la tabla: 3\nIngresa el límite superior de la tabla: 10\nSe multiplicará por: 5\n5* 3= 15\n5* 4= 20\n5* 5= 25\n5* 6= 30\n5* 7= 35\n5* 8= 40\n5* 9= 45\n5* 10= 50\n"
        }
      ]
    },
    {
      "metadata": {
        "id": "MQxGs6CPdlQu",
        "colab_type": "text"
      },
      "cell_type": "markdown",
      "source": "#### 43) Escribir un programa que muestre por pantalla la sucesión de números: \n 1 -1\n 2 -2\n 3 -3\n 4 -4\n 5 -5\n n -n\n##### Nota: usar la estructura “for”\n"
    },
    {
      "metadata": {
        "id": "U_Sh0QaDY3v5",
        "colab_type": "code",
        "colab": {},
        "trusted": true
      },
      "cell_type": "code",
      "source": "for i in range(1,20):\n    print(f\"{i},{i}\", end='-')",
      "execution_count": 22,
      "outputs": [
        {
          "output_type": "stream",
          "text": "1,1-2,2-3,3-4,4-5,5-6,6-7,7-8,8-9,9-10,10-11,11-12,12-13,13-14,14-15,15-16,16-17,17-18,18-19,19-",
          "name": "stdout"
        }
      ]
    },
    {
      "metadata": {
        "id": "E4gHT1KxdpU-",
        "colab_type": "text"
      },
      "cell_type": "markdown",
      "source": "#### 44) Escribir un programa que imprima los primeros 10 números y obtenga el cuadrado de los mismos.\n\n    1º) Que muestre por pantalla los cuadrados de los diez números naturales.\n\tNota1: cuadrado de un número = número (numero)\n\tNota: usar la estructura “for”\nEjemplo:\nCuadrados\n1 -> 1\n2 -> 4\n3 -> 9\n4 -> 16\n…..\n"
    },
    {
      "metadata": {
        "id": "PDoUjRE_Y38n",
        "colab_type": "code",
        "colab": {},
        "trusted": true
      },
      "cell_type": "code",
      "source": "for i in range(1,11):\n    print(f\"{i}->{i**2}\")",
      "execution_count": 23,
      "outputs": [
        {
          "output_type": "stream",
          "text": "1->1\n2->4\n3->9\n4->16\n5->25\n6->36\n7->49\n8->64\n9->81\n10->100\n",
          "name": "stdout"
        }
      ]
    },
    {
      "metadata": {
        "id": "kWJXYw40dwkB",
        "colab_type": "text"
      },
      "cell_type": "markdown",
      "source": "#### 45) Escribir un programa que muestre por pantalla todos los números pares que hay entre el 1 y el 30.\n     Nota: usar la estructura “for”\n"
    },
    {
      "metadata": {
        "id": "tnnEVUhSY4JA",
        "colab_type": "code",
        "colab": {},
        "trusted": true
      },
      "cell_type": "code",
      "source": "for i in range(1,31):\n    if i%2==0:\n        print(f\"El numero {i} es par.\")",
      "execution_count": 24,
      "outputs": [
        {
          "output_type": "stream",
          "text": "El numero 2 es par.\nEl numero 4 es par.\nEl numero 6 es par.\nEl numero 8 es par.\nEl numero 10 es par.\nEl numero 12 es par.\nEl numero 14 es par.\nEl numero 16 es par.\nEl numero 18 es par.\nEl numero 20 es par.\nEl numero 22 es par.\nEl numero 24 es par.\nEl numero 26 es par.\nEl numero 28 es par.\nEl numero 30 es par.\n",
          "name": "stdout"
        }
      ]
    },
    {
      "metadata": {
        "id": "Ez6ucLSTd0nW",
        "colab_type": "text"
      },
      "cell_type": "markdown",
      "source": "### 46) Escribir un programa que muestre en pantalla todos los números múltiplos de 4 que hay entre el 36 y el 598.\n      Nota: usar la estructura “for”\n"
    },
    {
      "metadata": {
        "id": "9hTeHR_qY4SN",
        "colab_type": "code",
        "colab": {},
        "trusted": true
      },
      "cell_type": "code",
      "source": "for i in range(36,599):\n    if i%4==0:\n        print(f\"{i} es multiplo de 4.\")",
      "execution_count": 25,
      "outputs": [
        {
          "output_type": "stream",
          "text": "36 es multiplo de 4.\n40 es multiplo de 4.\n44 es multiplo de 4.\n48 es multiplo de 4.\n52 es multiplo de 4.\n56 es multiplo de 4.\n60 es multiplo de 4.\n64 es multiplo de 4.\n68 es multiplo de 4.\n72 es multiplo de 4.\n76 es multiplo de 4.\n80 es multiplo de 4.\n84 es multiplo de 4.\n88 es multiplo de 4.\n92 es multiplo de 4.\n96 es multiplo de 4.\n100 es multiplo de 4.\n104 es multiplo de 4.\n108 es multiplo de 4.\n112 es multiplo de 4.\n116 es multiplo de 4.\n120 es multiplo de 4.\n124 es multiplo de 4.\n128 es multiplo de 4.\n132 es multiplo de 4.\n136 es multiplo de 4.\n140 es multiplo de 4.\n144 es multiplo de 4.\n148 es multiplo de 4.\n152 es multiplo de 4.\n156 es multiplo de 4.\n160 es multiplo de 4.\n164 es multiplo de 4.\n168 es multiplo de 4.\n172 es multiplo de 4.\n176 es multiplo de 4.\n180 es multiplo de 4.\n184 es multiplo de 4.\n188 es multiplo de 4.\n192 es multiplo de 4.\n196 es multiplo de 4.\n200 es multiplo de 4.\n204 es multiplo de 4.\n208 es multiplo de 4.\n212 es multiplo de 4.\n216 es multiplo de 4.\n220 es multiplo de 4.\n224 es multiplo de 4.\n228 es multiplo de 4.\n232 es multiplo de 4.\n236 es multiplo de 4.\n240 es multiplo de 4.\n244 es multiplo de 4.\n248 es multiplo de 4.\n252 es multiplo de 4.\n256 es multiplo de 4.\n260 es multiplo de 4.\n264 es multiplo de 4.\n268 es multiplo de 4.\n272 es multiplo de 4.\n276 es multiplo de 4.\n280 es multiplo de 4.\n284 es multiplo de 4.\n288 es multiplo de 4.\n292 es multiplo de 4.\n296 es multiplo de 4.\n300 es multiplo de 4.\n304 es multiplo de 4.\n308 es multiplo de 4.\n312 es multiplo de 4.\n316 es multiplo de 4.\n320 es multiplo de 4.\n324 es multiplo de 4.\n328 es multiplo de 4.\n332 es multiplo de 4.\n336 es multiplo de 4.\n340 es multiplo de 4.\n344 es multiplo de 4.\n348 es multiplo de 4.\n352 es multiplo de 4.\n356 es multiplo de 4.\n360 es multiplo de 4.\n364 es multiplo de 4.\n368 es multiplo de 4.\n372 es multiplo de 4.\n376 es multiplo de 4.\n380 es multiplo de 4.\n384 es multiplo de 4.\n388 es multiplo de 4.\n392 es multiplo de 4.\n396 es multiplo de 4.\n400 es multiplo de 4.\n404 es multiplo de 4.\n408 es multiplo de 4.\n412 es multiplo de 4.\n416 es multiplo de 4.\n420 es multiplo de 4.\n424 es multiplo de 4.\n428 es multiplo de 4.\n432 es multiplo de 4.\n436 es multiplo de 4.\n440 es multiplo de 4.\n444 es multiplo de 4.\n448 es multiplo de 4.\n452 es multiplo de 4.\n456 es multiplo de 4.\n460 es multiplo de 4.\n464 es multiplo de 4.\n468 es multiplo de 4.\n472 es multiplo de 4.\n476 es multiplo de 4.\n480 es multiplo de 4.\n484 es multiplo de 4.\n488 es multiplo de 4.\n492 es multiplo de 4.\n496 es multiplo de 4.\n500 es multiplo de 4.\n504 es multiplo de 4.\n508 es multiplo de 4.\n512 es multiplo de 4.\n516 es multiplo de 4.\n520 es multiplo de 4.\n524 es multiplo de 4.\n528 es multiplo de 4.\n532 es multiplo de 4.\n536 es multiplo de 4.\n540 es multiplo de 4.\n544 es multiplo de 4.\n548 es multiplo de 4.\n552 es multiplo de 4.\n556 es multiplo de 4.\n560 es multiplo de 4.\n564 es multiplo de 4.\n568 es multiplo de 4.\n572 es multiplo de 4.\n576 es multiplo de 4.\n580 es multiplo de 4.\n584 es multiplo de 4.\n588 es multiplo de 4.\n592 es multiplo de 4.\n596 es multiplo de 4.\n",
          "name": "stdout"
        }
      ]
    },
    {
      "metadata": {
        "id": "9xXb6Fuwd6B0",
        "colab_type": "text"
      },
      "cell_type": "markdown",
      "source": "### 47) Escribir un programa que imprima las tablas de multiplicar del 3 al 10.\n      Nota: usar la estructura “for”\n"
    },
    {
      "metadata": {
        "id": "SMyVjwqF5FQE",
        "colab_type": "code",
        "colab": {},
        "trusted": true
      },
      "cell_type": "code",
      "source": "for i in range (3,11):\n    for j in range(1,11):\n        print(f\"{j}*{i}={j*i}\")",
      "execution_count": 27,
      "outputs": [
        {
          "output_type": "stream",
          "text": "1*3=3\n2*3=6\n3*3=9\n4*3=12\n5*3=15\n6*3=18\n7*3=21\n8*3=24\n9*3=27\n10*3=30\n1*4=4\n2*4=8\n3*4=12\n4*4=16\n5*4=20\n6*4=24\n7*4=28\n8*4=32\n9*4=36\n10*4=40\n1*5=5\n2*5=10\n3*5=15\n4*5=20\n5*5=25\n6*5=30\n7*5=35\n8*5=40\n9*5=45\n10*5=50\n1*6=6\n2*6=12\n3*6=18\n4*6=24\n5*6=30\n6*6=36\n7*6=42\n8*6=48\n9*6=54\n10*6=60\n1*7=7\n2*7=14\n3*7=21\n4*7=28\n5*7=35\n6*7=42\n7*7=49\n8*7=56\n9*7=63\n10*7=70\n1*8=8\n2*8=16\n3*8=24\n4*8=32\n5*8=40\n6*8=48\n7*8=56\n8*8=64\n9*8=72\n10*8=80\n1*9=9\n2*9=18\n3*9=27\n4*9=36\n5*9=45\n6*9=54\n7*9=63\n8*9=72\n9*9=81\n10*9=90\n1*10=10\n2*10=20\n3*10=30\n4*10=40\n5*10=50\n6*10=60\n7*10=70\n8*10=80\n9*10=90\n10*10=100\n",
          "name": "stdout"
        }
      ]
    },
    {
      "metadata": {
        "trusted": true
      },
      "cell_type": "code",
      "source": "",
      "execution_count": null,
      "outputs": []
    }
  ],
  "metadata": {
    "kernelspec": {
      "name": "python36",
      "display_name": "Python 3.6",
      "language": "python"
    },
    "language_info": {
      "mimetype": "text/x-python",
      "nbconvert_exporter": "python",
      "name": "python",
      "pygments_lexer": "ipython3",
      "version": "3.6.6",
      "file_extension": ".py",
      "codemirror_mode": {
        "version": 3,
        "name": "ipython"
      }
    },
    "colab": {
      "name": "variable_input_print.ipynb",
      "version": "0.3.2",
      "provenance": [],
      "collapsed_sections": []
    }
  },
  "nbformat": 4,
  "nbformat_minor": 1
}